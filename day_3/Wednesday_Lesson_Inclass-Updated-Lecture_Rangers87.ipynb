{
 "cells": [
  {
   "cell_type": "markdown",
   "metadata": {},
   "source": [
    "# Dictionaries, Sets, & Importing Modules"
   ]
  },
  {
   "cell_type": "markdown",
   "metadata": {},
   "source": [
    "## Tasks Today:\n",
    "\n",
    "1) Dictionary <br>\n",
    " &nbsp;&nbsp;&nbsp;&nbsp; a) Declaring (key, value) <br>\n",
    " &nbsp;&nbsp;&nbsp;&nbsp; b) Accessing Values <br>\n",
    " &nbsp;&nbsp;&nbsp;&nbsp; ------ Exercise #1 - Print the eye color of each person in a double nested dict <br>\n",
    " &nbsp;&nbsp;&nbsp;&nbsp; c) Adding New Pairs <br>\n",
    " &nbsp;&nbsp;&nbsp;&nbsp; d) Modifying Values <br>\n",
    " &nbsp;&nbsp;&nbsp;&nbsp; e) Removing Key, Value Pairs <br>\n",
    " &nbsp;&nbsp;&nbsp;&nbsp; f) Looping a Dictionary <br>\n",
    " &nbsp;&nbsp;&nbsp;&nbsp; g) Looping Only Keys <br>\n",
    " &nbsp;&nbsp;&nbsp;&nbsp; h) Looping Only Values <br>\n",
    " &nbsp;&nbsp;&nbsp;&nbsp; ------ Exercise #2 - Create a Function that Prints All Key Value Pairs within a print .format()  <br>\n",
    " &nbsp;&nbsp;&nbsp;&nbsp; i) sorted() <br>\n",
    " &nbsp;&nbsp;&nbsp;&nbsp; j) Lists with Dictionaries <br>\n",
    " &nbsp;&nbsp;&nbsp;&nbsp; k) Dictionaries with Lists <br>\n",
    " &nbsp;&nbsp;&nbsp;&nbsp; l) Dictionaries with Dictionaries <br>\n",
    " &nbsp;&nbsp;&nbsp;&nbsp; ------ Exercise #3 - Write a Function that asks someone's name and address, and then stores that into a dictionary, which prints all names and addresses after they're done putting information in...  <br>\n",
    "2) Dictionaries vs. Lists (over time)<br>\n",
    "3) Set <br>\n",
    " &nbsp;&nbsp;&nbsp;&nbsp; a) Declaring <br>\n",
    " &nbsp;&nbsp;&nbsp;&nbsp; b) .add() <br>\n",
    " &nbsp;&nbsp;&nbsp;&nbsp; c) .remove() <br>\n",
    " &nbsp;&nbsp;&nbsp;&nbsp; d) .union() <br>\n",
    " &nbsp;&nbsp;&nbsp;&nbsp; e) .intersection() <br>\n",
    " &nbsp;&nbsp;&nbsp;&nbsp; f) .difference() <br>\n",
    " &nbsp;&nbsp;&nbsp;&nbsp; g) Frozen Set <br>\n",
    "4) Modules <br>\n",
    " &nbsp;&nbsp;&nbsp;&nbsp; a) Importing Entire Modules <br>\n",
    " &nbsp;&nbsp;&nbsp;&nbsp; b) Importing Methods Only <br>\n",
    " &nbsp;&nbsp;&nbsp;&nbsp; c) Using the 'as' Keyword <br>\n",
    " &nbsp;&nbsp;&nbsp;&nbsp; d) Creating a Module <br>\n",
    "5) Exercises <br>\n",
    " &nbsp;&nbsp;&nbsp;&nbsp; a) Build a Shopping Cart <br>\n",
    " &nbsp;&nbsp;&nbsp;&nbsp; b) Create Your Own Module <br>"
   ]
  },
  {
   "cell_type": "markdown",
   "metadata": {},
   "source": [
    "## Dictionary <br>\n",
    "<p>A collection of data with 'key:value' pairs. Dictionaries are ordered as of Python 3.6</p>"
   ]
  },
  {
   "cell_type": "markdown",
   "metadata": {},
   "source": [
    "##### Declaring (key, value)"
   ]
  },
  {
   "cell_type": "code",
   "execution_count": 3,
   "metadata": {},
   "outputs": [],
   "source": [
    "# keys should be unique\n",
    "# can use numbers or strings as keys\n",
    "d_1 = {}\n",
    "\n",
    "#or\n",
    "\n",
    "d_2 = dict()\n",
    "\n",
    "d_3 = {\n",
    "    \"Tom\": '255 Main Street',\n",
    "    \"Jerry\": '256 Main Street',\n",
    "    0: \"This is a value for the key of 0\"\n",
    "} \n"
   ]
  },
  {
   "cell_type": "markdown",
   "metadata": {},
   "source": [
    "##### Accessing Values"
   ]
  },
  {
   "cell_type": "code",
   "execution_count": 14,
   "metadata": {},
   "outputs": [
    {
     "data": {
      "text/plain": [
       "'256 Main Street'"
      ]
     },
     "execution_count": 14,
     "metadata": {},
     "output_type": "execute_result"
    }
   ],
   "source": [
    "# dict[key]\n",
    "d_3[0]\n",
    "d_3[\"Jerry\"]\n"
   ]
  },
  {
   "cell_type": "markdown",
   "metadata": {},
   "source": [
    "## In-Class Exercise #1 - Print a formatted statement from the dictionary below <br>\n",
    "<p>The output should be '2018 Chevrolet Silverado'</p>"
   ]
  },
  {
   "cell_type": "code",
   "execution_count": 12,
   "metadata": {},
   "outputs": [
    {
     "name": "stdout",
     "output_type": "stream",
     "text": [
      "2018 Chevrolet Silverado\n"
     ]
    }
   ],
   "source": [
    "# use the dict below\n",
    "truck = {\n",
    "    \"year\": 2018,\n",
    "    'make': 'Chevrolet',\n",
    "    'model': 'Silverado'\n",
    "}\n",
    "print(truck[\"year\"], truck[\"make\"], truck[\"model\"])\n"
   ]
  },
  {
   "cell_type": "markdown",
   "metadata": {},
   "source": [
    "##### Adding New Pairs"
   ]
  },
  {
   "cell_type": "code",
   "execution_count": 15,
   "metadata": {},
   "outputs": [
    {
     "name": "stdout",
     "output_type": "stream",
     "text": [
      "{'Tom': '255 Main Street', 'Jerry': '256 Main Street', 0: 'This is a value for the key of 0', 'Spike': '257 Main St'}\n"
     ]
    }
   ],
   "source": [
    "# dict[key] = value\n",
    "d_3['Spike'] = \"257 Main St\"\n",
    "print(d_3)"
   ]
  },
  {
   "cell_type": "markdown",
   "metadata": {},
   "source": [
    "##### Modifying Values"
   ]
  },
  {
   "cell_type": "code",
   "execution_count": 18,
   "metadata": {},
   "outputs": [
    {
     "data": {
      "text/plain": [
       "'257 Main St Chicago, IL 60607'"
      ]
     },
     "execution_count": 18,
     "metadata": {},
     "output_type": "execute_result"
    }
   ],
   "source": [
    "# dict[key] = value\n",
    "placeholder = d_3['Spike']\n",
    "\n",
    "d_3['Spike'] = placeholder + ' 60607'\n",
    "\n",
    "d_3\n",
    "\n",
    "d_3['Spike']"
   ]
  },
  {
   "cell_type": "markdown",
   "metadata": {},
   "source": [
    "##### Removing Key, Value Pairs"
   ]
  },
  {
   "cell_type": "code",
   "execution_count": 20,
   "metadata": {},
   "outputs": [
    {
     "ename": "KeyError",
     "evalue": "0",
     "output_type": "error",
     "traceback": [
      "\u001b[0;31m---------------------------------------------------------------------------\u001b[0m",
      "\u001b[0;31mKeyError\u001b[0m                                  Traceback (most recent call last)",
      "Input \u001b[0;32mIn [20]\u001b[0m, in \u001b[0;36m<cell line: 2>\u001b[0;34m()\u001b[0m\n\u001b[1;32m      1\u001b[0m \u001b[38;5;66;03m# del dict[key]\u001b[39;00m\n\u001b[0;32m----> 2\u001b[0m \u001b[38;5;28;01mdel\u001b[39;00m d_3[\u001b[38;5;241m0\u001b[39m]\n\u001b[1;32m      3\u001b[0m d_3\n",
      "\u001b[0;31mKeyError\u001b[0m: 0"
     ]
    }
   ],
   "source": [
    "# del dict[key]\n",
    "del d_3[0]\n",
    "d_3\n"
   ]
  },
  {
   "cell_type": "markdown",
   "metadata": {},
   "source": [
    "##### Looping a Dictionary"
   ]
  },
  {
   "cell_type": "code",
   "execution_count": 22,
   "metadata": {},
   "outputs": [
    {
     "name": "stdout",
     "output_type": "stream",
     "text": [
      "Tom : 255 Main Street\n",
      "Jerry : 256 Main Street\n",
      "Spike : 257 Main St Chicago, IL 60607\n"
     ]
    }
   ],
   "source": [
    "# .items()\n",
    "# a, b, c = 1, 2, 3\n",
    "for name, address in d_3.items():\n",
    "    print(name, ':', address)"
   ]
  },
  {
   "cell_type": "markdown",
   "metadata": {},
   "source": [
    "##### Looping Only Keys"
   ]
  },
  {
   "cell_type": "code",
   "execution_count": 24,
   "metadata": {},
   "outputs": [
    {
     "name": "stdout",
     "output_type": "stream",
     "text": [
      "Tom\n",
      "Jerry\n",
      "Spike\n"
     ]
    }
   ],
   "source": [
    "# .keys()\n",
    "for name in d_3.keys():\n",
    "    print(name)"
   ]
  },
  {
   "cell_type": "markdown",
   "metadata": {},
   "source": [
    "##### Looping Only Values"
   ]
  },
  {
   "cell_type": "code",
   "execution_count": 25,
   "metadata": {},
   "outputs": [
    {
     "name": "stdout",
     "output_type": "stream",
     "text": [
      "['255 Main Street', '256 Main Street', '257 Main St Chicago, IL 60607']\n"
     ]
    }
   ],
   "source": [
    "value_list = [val for val in d_3.values()]\n",
    "print(value_list)"
   ]
  },
  {
   "cell_type": "code",
   "execution_count": null,
   "metadata": {
    "scrolled": false
   },
   "outputs": [],
   "source": []
  },
  {
   "cell_type": "code",
   "execution_count": 9,
   "metadata": {
    "scrolled": true
   },
   "outputs": [],
   "source": [
    "# .values()\n"
   ]
  },
  {
   "cell_type": "markdown",
   "metadata": {},
   "source": [
    "## In-Class Exercise #2 - Create a Function that Prints All Key Value Pairs within a print .format() <br>\n",
    "<p><b>Output should be:</b><br>\n",
    "Max has blue eyes<br>\n",
    "Lilly has brown eyes<br>\n",
    "Barney has blue eyes<br>\n",
    "etc.\n",
    "</p>"
   ]
  },
  {
   "cell_type": "code",
   "execution_count": 28,
   "metadata": {},
   "outputs": [
    {
     "name": "stdout",
     "output_type": "stream",
     "text": [
      "Max has blue eyes\n",
      "Lilly has brown eyes\n",
      "Barney has blue eyes\n",
      "Larney has brown eyes\n",
      "Ted has purple eyes\n"
     ]
    }
   ],
   "source": [
    "# use the dict below\n",
    "people = {\n",
    "'Max': 'blue',\n",
    "'Lilly': 'brown',\n",
    "'Barney': 'blue',\n",
    "'Larney': 'brown',\n",
    "'Ted': 'purple'\n",
    "} \n",
    "for name, value in people.items():\n",
    "    print(f\"{name} has {value} eyes\")\n"
   ]
  },
  {
   "cell_type": "markdown",
   "metadata": {},
   "source": [
    "##### sorted()"
   ]
  },
  {
   "cell_type": "code",
   "execution_count": 30,
   "metadata": {
    "scrolled": true
   },
   "outputs": [
    {
     "name": "stdout",
     "output_type": "stream",
     "text": [
      "['Barney', 'Larney', 'Lilly', 'Max', 'Ted']\n",
      "['blue', 'blue', 'brown', 'brown', 'purple']\n",
      "[('Barney', 'blue'), ('Larney', 'brown'), ('Lilly', 'brown'), ('Max', 'blue'), ('Ted', 'purple')]\n"
     ]
    }
   ],
   "source": [
    "# sorts variables in order\n",
    "# sorted(dict.values()) or dict.keys() or dict.items()\n",
    "print(sorted(people.keys()))\n",
    "print(sorted(people.values()))\n",
    "print(sorted(people.items()))"
   ]
  },
  {
   "cell_type": "markdown",
   "metadata": {},
   "source": [
    "##### List with Dictionaries"
   ]
  },
  {
   "cell_type": "code",
   "execution_count": 35,
   "metadata": {},
   "outputs": [
    {
     "name": "stdout",
     "output_type": "stream",
     "text": [
      "Rob\n",
      "random_girl\n",
      "random_guy\n",
      "anonymous_girl\n"
     ]
    }
   ],
   "source": [
    "names = ['Dave', 'Sandy', 'Tony',{'random_girl': 'Barb', 'random_guy': 'Rob'},['anonymous_guy', 'anonymous_girl']]\n",
    "print(names[3]['random_guy'])\n",
    "\n",
    "for key in names[3]:\n",
    "    print(key)\n",
    "print(names[4][1])"
   ]
  },
  {
   "cell_type": "markdown",
   "metadata": {},
   "source": [
    "##### Dictionaries with Lists"
   ]
  },
  {
   "cell_type": "code",
   "execution_count": 38,
   "metadata": {},
   "outputs": [
    {
     "name": "stdout",
     "output_type": "stream",
     "text": [
      "Johnson\n",
      "45\n",
      "46\n",
      "47\n"
     ]
    }
   ],
   "source": [
    "# be careful when using numbers as keys in dictionaries, don't confuse them with indexes\n",
    "\n",
    "random_data = {\n",
    "    \"list_1\": [45, 46, 47],\n",
    "    '2': ['Johnson']\n",
    "}\n",
    "\n",
    "print(random_data['2'][0])\n",
    "\n",
    "for i in random_data['list_1']:\n",
    "    print(i)"
   ]
  },
  {
   "cell_type": "markdown",
   "metadata": {},
   "source": [
    "##### Dictionaries with Dictionaries"
   ]
  },
  {
   "cell_type": "code",
   "execution_count": 41,
   "metadata": {},
   "outputs": [],
   "source": [
    "# to get values, must traverse through keys\n",
    "\n",
    "food_dict = {\n",
    "    \"Terrell\": {\n",
    "        \"Latin\": ['Taco','Arepa','Empanada'],\n",
    "        'noodles': ['instant','Pho','Ramen']\n",
    "    },\n",
    "     \"Ryan\": {\n",
    "        \"Latin\": [\"Tacos\",'Tacos','Tacos'],\n",
    "        \"Desserts\": [\"pie\",'ice cream','cookies']\n",
    "    },\n",
    "    \"josh\": {\n",
    "        \"latin\": ['Taco','quesadilla','torta'],\n",
    "        'noodles': ['vermacelli','Pho','tsukemen']\n",
    "    },\n",
    "    \"Brad\": {\n",
    "        \"Mexican\": ['Taco', 'Burrito'],\n",
    "        \"Desserts\": ['ice cream', 'cookies']\n",
    "    },\n",
    "    \"Jackie\": {\n",
    "        \"Latin\": [\"Tacos\",'Quesadillas','Papusas'],\n",
    "        \"Asian\": [\"Pho\", 'KBBQ','Hot Pot']\n",
    "    },\n",
    "    \"Michael Cook\": {\n",
    "        \"Bread\": [\"Foccacia\", \"Boule\", \"Joe\"],\n",
    "        \"noodles\": [\"linguini\", \"farfale\", \"elbow\"]\n",
    "    },\n",
    "    \"Garrett\": {\n",
    "        \"Asain\": [\"drunken noodles\", 'sushi', 'pad thia', 'chow mein'],\n",
    "        \"Mexican\" : [\"taco\", \"quesidilla\", \"chimichanga\"],\n",
    "        \"American\" : [\"hamburger\", \"beer\", \"fries\", \"cheese steak\"]\n",
    "    },\n",
    "    \"Alex\" : {\n",
    "        \"latin\" : ['Papusas', 'Tomales', 'Taco'],\n",
    "        \"noodles\" : ['Ramen', 'Pho', 'Spaghetti']  \n",
    "    },\n",
    "    \"Jess\": {\n",
    "        \"Latin\": [\"Burrito\",'Arepa','Empanadas'],\n",
    "        \"American\": [\"Chicken Salad\",'Chicken Sandwich','fries']\n",
    "    },\n",
    "    \"Hootie\": {\n",
    "        \"latin\": [\"coxhinas\", \"burritos\", \"qusadilla\"],\n",
    "        \"italian\": [\"spaghetti\", \"nno pasta\", \"meatballs\"]\n",
    "    },\n",
    "    'Faiber' : {\n",
    "        'latin' : ['Burrito','Emapanadas','Taquitos'],\n",
    "        'Bakes' : ['Bunuleos','Pan de Yuca','Pandebono']\n",
    "    },\n",
    "    \"Dom\" : {\n",
    "        \"italian\": ['filled pasta','sausage','cannoli'],\n",
    "        'midwestern':['corn','corn','corn']\n",
    "    },\n",
    "    \"Dominic\" : { \"Italian\":['Pizza','Ravioli','Tortellini'], \n",
    "        \"Mexican\":['Tacos','enchilada'] } \n",
    "}"
   ]
  },
  {
   "cell_type": "code",
   "execution_count": 46,
   "metadata": {},
   "outputs": [
    {
     "data": {
      "text/plain": [
       "dict_keys(['Latin', 'noodles'])"
      ]
     },
     "execution_count": 46,
     "metadata": {},
     "output_type": "execute_result"
    }
   ],
   "source": [
    "#### Print out a statement that says \"Terrell's favorite food groups are (list the groups)\"\n",
    "#### Also show us everyone's favorite food items.\n",
    "food_dict['Terrell'].keys()"
   ]
  },
  {
   "cell_type": "code",
   "execution_count": 61,
   "metadata": {
    "scrolled": true
   },
   "outputs": [
    {
     "name": "stdout",
     "output_type": "stream",
     "text": [
      "\n",
      "Terrell's favorite food groups are: \n",
      "Latin\n",
      "noodles\n",
      "\n",
      "Ryan's favorite food groups are: \n",
      "Latin\n",
      "Desserts\n",
      "\n",
      "josh's favorite food groups are: \n",
      "latin\n",
      "noodles\n",
      "\n",
      "Brad's favorite food groups are: \n",
      "Mexican\n",
      "Desserts\n",
      "\n",
      "Jackie's favorite food groups are: \n",
      "Latin\n",
      "Asian\n",
      "\n",
      "Michael Cook's favorite food groups are: \n",
      "Bread\n",
      "noodles\n",
      "\n",
      "Garrett's favorite food groups are: \n",
      "Asain\n",
      "Mexican\n",
      "American\n",
      "\n",
      "Alex's favorite food groups are: \n",
      "latin\n",
      "noodles\n",
      "\n",
      "Jess's favorite food groups are: \n",
      "Latin\n",
      "American\n",
      "\n",
      "Hootie's favorite food groups are: \n",
      "latin\n",
      "italian\n",
      "\n",
      "Faiber's favorite food groups are: \n",
      "latin\n",
      "Bakes\n",
      "\n",
      "Dom's favorite food groups are: \n",
      "italian\n",
      "midwestern\n",
      "\n",
      "Dominic's favorite food groups are: \n",
      "Italian\n",
      "Mexican\n"
     ]
    }
   ],
   "source": [
    "for name, group in food_dict.items():\n",
    "    print(f\"\\n{name}'s favorite food groups are: \")\n",
    "    for groups in food_dict[name]:\n",
    "        print(groups)"
   ]
  },
  {
   "cell_type": "markdown",
   "metadata": {},
   "source": [
    "## Dictionaries vs. Lists (over time) Example of RUNTIME\n",
    "### When inputting values in a Dictionary vs List"
   ]
  },
  {
   "cell_type": "code",
   "execution_count": 64,
   "metadata": {},
   "outputs": [],
   "source": [
    "import time\n",
    "\n",
    "# Generate a dictionary\n",
    "d = {}\n",
    "\n",
    "for i in range(100000000):\n",
    "    d[i] = \"value \" + str(i)\n",
    "    \n",
    "# Generate a list\n",
    "big_list = [x for x in range(10000000)]"
   ]
  },
  {
   "cell_type": "code",
   "execution_count": 67,
   "metadata": {},
   "outputs": [
    {
     "name": "stdout",
     "output_type": "stream",
     "text": [
      "value9999999\n",
      "Elapsed time for dictionary: 0.00012493133544921875\n",
      "9999999\n",
      "Elapsed time for list: 0.6155390739440918\n"
     ]
    }
   ],
   "source": [
    "#Track the time for the dictionary\n",
    "start_time = time.time()\n",
    "print(d[9999999])\n",
    "\n",
    "end_time = time.time() - start_time\n",
    "print(f\"Elapsed time for dictionary: {end_time}\")\n",
    "\n",
    "start_time = time.time()\n",
    "\n",
    "for i in range(len(big_list)):\n",
    "    if i == 9999999:\n",
    "        print(i)\n",
    "end_time = time.time() - start_time\n",
    "print(f\"Elapsed time for list: {end_time}\")"
   ]
  },
  {
   "cell_type": "markdown",
   "metadata": {},
   "source": [
    "## Exercise #3 - Write a Function that asks someone's name and address, and then stores that into a dictionary, and continues to do so until they choose to 'quit'. Once they quit, the program should print all names and addresses. <br>\n",
    "<p>\n",
    "<b>Proper steps:</b><br>\n",
    "step 1: write a function that takes in information and stores it in a dictionary<br>\n",
    "step 2: define an empty dictionary to work with<br>\n",
    "step 3: create our loop, which asks the user for information until they quit<br>\n",
    "step 4: ask for the information, and store it into variables<br>\n",
    "step 5: check if the user types quit<br>\n",
    "step 5a: print out all information<br>\n",
    "step 5b: break out of the loop<br>\n",
    "step 6: if they didn't quit, add the information to the dictionary<br>\n",
    "step 7: invoke the function by calling it\n",
    "</p>"
   ]
  },
  {
   "cell_type": "code",
   "execution_count": 77,
   "metadata": {},
   "outputs": [
    {
     "name": "stdout",
     "output_type": "stream",
     "text": [
      "Type 'quit' at any time to quit. \n",
      "Enter your name. brad\n",
      "Enter your address. holly st\n",
      "Name: brad, address: holly st\n",
      "brad holly st\n",
      "brad holly st\n",
      "Type 'quit' at any time to quit. \n",
      "Enter your name. no\n",
      "Enter your address. no\n",
      "Name: no, address: no\n",
      "no no\n",
      "no no\n",
      "no no\n",
      "Type 'quit' at any time to quit. \n"
     ]
    },
    {
     "ename": "KeyboardInterrupt",
     "evalue": "Interrupted by user",
     "output_type": "error",
     "traceback": [
      "\u001b[0;31m---------------------------------------------------------------------------\u001b[0m",
      "\u001b[0;31mKeyboardInterrupt\u001b[0m                         Traceback (most recent call last)",
      "Input \u001b[0;32mIn [77]\u001b[0m, in \u001b[0;36m<cell line: 19>\u001b[0;34m()\u001b[0m\n\u001b[1;32m     17\u001b[0m         \u001b[38;5;28;01mfor\u001b[39;00m key, value \u001b[38;5;129;01min\u001b[39;00m info_dict\u001b[38;5;241m.\u001b[39mitems():\n\u001b[1;32m     18\u001b[0m             \u001b[38;5;28mprint\u001b[39m(name, address)\n\u001b[0;32m---> 19\u001b[0m \u001b[43mstoreInfo\u001b[49m\u001b[43m(\u001b[49m\u001b[43m)\u001b[49m\n",
      "Input \u001b[0;32mIn [77]\u001b[0m, in \u001b[0;36mstoreInfo\u001b[0;34m()\u001b[0m\n\u001b[1;32m      6\u001b[0m \u001b[38;5;28;01mwhile\u001b[39;00m \u001b[38;5;28;01mTrue\u001b[39;00m:\n\u001b[1;32m      7\u001b[0m     \u001b[38;5;28mprint\u001b[39m(\u001b[38;5;124m\"\u001b[39m\u001b[38;5;124mType \u001b[39m\u001b[38;5;124m'\u001b[39m\u001b[38;5;124mquit\u001b[39m\u001b[38;5;124m'\u001b[39m\u001b[38;5;124m at any time to quit. \u001b[39m\u001b[38;5;124m\"\u001b[39m)\n\u001b[0;32m----> 8\u001b[0m     name \u001b[38;5;241m=\u001b[39m \u001b[38;5;28;43minput\u001b[39;49m\u001b[43m(\u001b[49m\u001b[38;5;124;43m\"\u001b[39;49m\u001b[38;5;124;43mEnter your name. \u001b[39;49m\u001b[38;5;124;43m\"\u001b[39;49m\u001b[43m)\u001b[49m\n\u001b[1;32m      9\u001b[0m     \u001b[38;5;28;01mif\u001b[39;00m name \u001b[38;5;241m==\u001b[39m \u001b[38;5;124m'\u001b[39m\u001b[38;5;124mquit\u001b[39m\u001b[38;5;124m'\u001b[39m:\n\u001b[1;32m     10\u001b[0m         \u001b[38;5;28;01mbreak\u001b[39;00m\n",
      "File \u001b[0;32m/usr/lib/python3.10/site-packages/ipykernel/kernelbase.py:1076\u001b[0m, in \u001b[0;36mKernel.raw_input\u001b[0;34m(self, prompt)\u001b[0m\n\u001b[1;32m   1072\u001b[0m \u001b[38;5;28;01mif\u001b[39;00m \u001b[38;5;129;01mnot\u001b[39;00m \u001b[38;5;28mself\u001b[39m\u001b[38;5;241m.\u001b[39m_allow_stdin:\n\u001b[1;32m   1073\u001b[0m     \u001b[38;5;28;01mraise\u001b[39;00m StdinNotImplementedError(\n\u001b[1;32m   1074\u001b[0m         \u001b[38;5;124m\"\u001b[39m\u001b[38;5;124mraw_input was called, but this frontend does not support input requests.\u001b[39m\u001b[38;5;124m\"\u001b[39m\n\u001b[1;32m   1075\u001b[0m     )\n\u001b[0;32m-> 1076\u001b[0m \u001b[38;5;28;01mreturn\u001b[39;00m \u001b[38;5;28;43mself\u001b[39;49m\u001b[38;5;241;43m.\u001b[39;49m\u001b[43m_input_request\u001b[49m\u001b[43m(\u001b[49m\n\u001b[1;32m   1077\u001b[0m \u001b[43m    \u001b[49m\u001b[38;5;28;43mstr\u001b[39;49m\u001b[43m(\u001b[49m\u001b[43mprompt\u001b[49m\u001b[43m)\u001b[49m\u001b[43m,\u001b[49m\n\u001b[1;32m   1078\u001b[0m \u001b[43m    \u001b[49m\u001b[38;5;28;43mself\u001b[39;49m\u001b[38;5;241;43m.\u001b[39;49m\u001b[43m_parent_ident\u001b[49m\u001b[43m[\u001b[49m\u001b[38;5;124;43m\"\u001b[39;49m\u001b[38;5;124;43mshell\u001b[39;49m\u001b[38;5;124;43m\"\u001b[39;49m\u001b[43m]\u001b[49m\u001b[43m,\u001b[49m\n\u001b[1;32m   1079\u001b[0m \u001b[43m    \u001b[49m\u001b[38;5;28;43mself\u001b[39;49m\u001b[38;5;241;43m.\u001b[39;49m\u001b[43mget_parent\u001b[49m\u001b[43m(\u001b[49m\u001b[38;5;124;43m\"\u001b[39;49m\u001b[38;5;124;43mshell\u001b[39;49m\u001b[38;5;124;43m\"\u001b[39;49m\u001b[43m)\u001b[49m\u001b[43m,\u001b[49m\n\u001b[1;32m   1080\u001b[0m \u001b[43m    \u001b[49m\u001b[43mpassword\u001b[49m\u001b[38;5;241;43m=\u001b[39;49m\u001b[38;5;28;43;01mFalse\u001b[39;49;00m\u001b[43m,\u001b[49m\n\u001b[1;32m   1081\u001b[0m \u001b[43m\u001b[49m\u001b[43m)\u001b[49m\n",
      "File \u001b[0;32m/usr/lib/python3.10/site-packages/ipykernel/kernelbase.py:1121\u001b[0m, in \u001b[0;36mKernel._input_request\u001b[0;34m(self, prompt, ident, parent, password)\u001b[0m\n\u001b[1;32m   1118\u001b[0m             \u001b[38;5;28;01mbreak\u001b[39;00m\n\u001b[1;32m   1119\u001b[0m \u001b[38;5;28;01mexcept\u001b[39;00m \u001b[38;5;167;01mKeyboardInterrupt\u001b[39;00m:\n\u001b[1;32m   1120\u001b[0m     \u001b[38;5;66;03m# re-raise KeyboardInterrupt, to truncate traceback\u001b[39;00m\n\u001b[0;32m-> 1121\u001b[0m     \u001b[38;5;28;01mraise\u001b[39;00m \u001b[38;5;167;01mKeyboardInterrupt\u001b[39;00m(\u001b[38;5;124m\"\u001b[39m\u001b[38;5;124mInterrupted by user\u001b[39m\u001b[38;5;124m\"\u001b[39m) \u001b[38;5;28;01mfrom\u001b[39;00m \u001b[38;5;28mNone\u001b[39m\n\u001b[1;32m   1122\u001b[0m \u001b[38;5;28;01mexcept\u001b[39;00m \u001b[38;5;167;01mException\u001b[39;00m:\n\u001b[1;32m   1123\u001b[0m     \u001b[38;5;28mself\u001b[39m\u001b[38;5;241m.\u001b[39mlog\u001b[38;5;241m.\u001b[39mwarning(\u001b[38;5;124m\"\u001b[39m\u001b[38;5;124mInvalid Message:\u001b[39m\u001b[38;5;124m\"\u001b[39m, exc_info\u001b[38;5;241m=\u001b[39m\u001b[38;5;28;01mTrue\u001b[39;00m)\n",
      "\u001b[0;31mKeyboardInterrupt\u001b[0m: Interrupted by user"
     ]
    }
   ],
   "source": [
    "from IPython.display import clear_output\n",
    "\n",
    "# Step 1\n",
    "def storeInfo():\n",
    "    info_dict = {}\n",
    "    while True:\n",
    "        print(\"Type 'quit' at any time to quit. \")\n",
    "        name = input(\"Enter your name. \")\n",
    "        if name == 'quit':\n",
    "            break\n",
    "        address = input(\"Enter your address. \")\n",
    "        if address == 'quit':\n",
    "            break\n",
    "        print(f\"Name: {name}, address: {address}\")\n",
    "        info_dict[name] = name\n",
    "        info_dict[address] = address\n",
    "        for key, value in info_dict.items():\n",
    "            print(name, address)\n",
    "storeInfo()\n",
    "              \n",
    "        "
   ]
  },
  {
   "cell_type": "markdown",
   "metadata": {},
   "source": [
    "## Set <br>\n",
    "<p>A Set is an unordered collection data type that is iterable (loop), mutable, and has no duplicate elements.<br>Major advantage is that it is highly optimized in checking if something is in the set, as opposed to checking if something is in a list.</p>"
   ]
  },
  {
   "cell_type": "markdown",
   "metadata": {},
   "source": [
    "##### Declaring"
   ]
  },
  {
   "cell_type": "code",
   "execution_count": 79,
   "metadata": {},
   "outputs": [
    {
     "name": "stdout",
     "output_type": "stream",
     "text": [
      "<class 'set'>\n",
      "{8, 1, 4}\n",
      "3\n"
     ]
    }
   ],
   "source": [
    "# set() or {}\n",
    "# no order {3, 2, 1} outputs as {1, 2, 3}\n",
    "s = set()\n",
    "print(type(s))\n",
    "\n",
    "nums = {4, 1, 8, 4}\n",
    "print(nums)\n",
    "print(len(nums))"
   ]
  },
  {
   "cell_type": "markdown",
   "metadata": {},
   "source": [
    "##### .add()"
   ]
  },
  {
   "cell_type": "code",
   "execution_count": 80,
   "metadata": {
    "scrolled": true
   },
   "outputs": [
    {
     "name": "stdout",
     "output_type": "stream",
     "text": [
      "{8, 1, 4, 22}\n"
     ]
    }
   ],
   "source": [
    "# set.add()\n",
    "nums.add(22)\n",
    "print(nums)"
   ]
  },
  {
   "cell_type": "markdown",
   "metadata": {},
   "source": [
    "##### .remove()"
   ]
  },
  {
   "cell_type": "code",
   "execution_count": 81,
   "metadata": {},
   "outputs": [
    {
     "name": "stdout",
     "output_type": "stream",
     "text": [
      "{8, 1, 4}\n"
     ]
    }
   ],
   "source": [
    "# removes by value\n",
    "# set.remove()\n",
    "nums.remove(22)\n",
    "print(nums)\n"
   ]
  },
  {
   "cell_type": "markdown",
   "metadata": {},
   "source": [
    "##### .union() "
   ]
  },
  {
   "cell_type": "code",
   "execution_count": 83,
   "metadata": {},
   "outputs": [
    {
     "name": "stdout",
     "output_type": "stream",
     "text": [
      "{1, 2, 3, 4, 5, 6}\n",
      "{1, 2, 3, 4, 5, 6}\n"
     ]
    }
   ],
   "source": [
    "# Returns a union of two sets, can also use '|' or set.union(set)\n",
    "# joins all numbers, gets rid of duplicates\n",
    "s1 = {1, 2, 3, 4}\n",
    "s2 = {3, 4, 5, 6}\n",
    "\n",
    "s3 = s1.union(s2)\n",
    "print(s3)\n",
    "\n",
    "#or\n",
    "\n",
    "s4 = s1 | s2\n",
    "print(s4)\n"
   ]
  },
  {
   "cell_type": "markdown",
   "metadata": {},
   "source": [
    "##### .intersection()"
   ]
  },
  {
   "cell_type": "code",
   "execution_count": 86,
   "metadata": {},
   "outputs": [
    {
     "name": "stdout",
     "output_type": "stream",
     "text": [
      "{3, 4}\n",
      "{3, 4}\n"
     ]
    }
   ],
   "source": [
    "# Returns an intersection of two sets, can also use '&'\n",
    "# only takes similar elements from both sets\n",
    "s5 = s1.intersection(s2)\n",
    "print(s5)\n",
    "\n",
    "s6 = s1 & s2\n",
    "print(s6)"
   ]
  },
  {
   "cell_type": "markdown",
   "metadata": {},
   "source": [
    "##### .difference()"
   ]
  },
  {
   "cell_type": "code",
   "execution_count": 89,
   "metadata": {},
   "outputs": [
    {
     "name": "stdout",
     "output_type": "stream",
     "text": [
      "{1, 2}\n",
      "{5, 6}\n"
     ]
    }
   ],
   "source": [
    "# Returns a set containing all the elements of invoking set that are not in the second set, can also use '-'\n",
    "# only takes values from the first set that are not in the second set\n",
    "# order matters\n",
    "s7 = s1.difference(s2)\n",
    "print(s7)\n",
    "\n",
    "s8 = s1 - s2\n",
    "\n",
    "print(s8)"
   ]
  },
  {
   "cell_type": "markdown",
   "metadata": {},
   "source": [
    "##### .clear()"
   ]
  },
  {
   "cell_type": "code",
   "execution_count": 90,
   "metadata": {},
   "outputs": [
    {
     "name": "stdout",
     "output_type": "stream",
     "text": [
      "set()\n"
     ]
    }
   ],
   "source": [
    "# Empties the whole set\n",
    "# set.clear()\n",
    "s8.clear()\n",
    "print(s8)"
   ]
  },
  {
   "cell_type": "code",
   "execution_count": null,
   "metadata": {},
   "outputs": [],
   "source": []
  },
  {
   "cell_type": "markdown",
   "metadata": {},
   "source": [
    "##### Frozenset <br>\n",
    "<p>Frozen sets are immutable objects that only support methods and operators that produce a result without affecting the frozen set or sets to which they are applied.</p><br><b>Unique & Immutable</b>"
   ]
  },
  {
   "cell_type": "code",
   "execution_count": 92,
   "metadata": {},
   "outputs": [
    {
     "name": "stdout",
     "output_type": "stream",
     "text": [
      "frozenset({1, 2, 3, 4, 5, 6})\n"
     ]
    },
    {
     "ename": "AttributeError",
     "evalue": "'frozenset' object has no attribute 'add'",
     "output_type": "error",
     "traceback": [
      "\u001b[0;31m---------------------------------------------------------------------------\u001b[0m",
      "\u001b[0;31mAttributeError\u001b[0m                            Traceback (most recent call last)",
      "Input \u001b[0;32mIn [92]\u001b[0m, in \u001b[0;36m<cell line: 4>\u001b[0;34m()\u001b[0m\n\u001b[1;32m      2\u001b[0m my_frozen_set \u001b[38;5;241m=\u001b[39m \u001b[38;5;28mfrozenset\u001b[39m(s3)\n\u001b[1;32m      3\u001b[0m \u001b[38;5;28mprint\u001b[39m(my_frozen_set)\n\u001b[0;32m----> 4\u001b[0m \u001b[43mmy_frozen_set\u001b[49m\u001b[38;5;241;43m.\u001b[39;49m\u001b[43madd\u001b[49m(\u001b[38;5;241m22\u001b[39m)\n",
      "\u001b[0;31mAttributeError\u001b[0m: 'frozenset' object has no attribute 'add'"
     ]
    }
   ],
   "source": [
    "# frozenset([])\n",
    "my_frozen_set = frozenset(s3)\n",
    "print(my_frozen_set)\n",
    "# my_frozen_set.add(22)"
   ]
  },
  {
   "cell_type": "markdown",
   "metadata": {},
   "source": [
    "## Modules"
   ]
  },
  {
   "cell_type": "markdown",
   "metadata": {},
   "source": [
    "##### Importing Entire Modules"
   ]
  },
  {
   "cell_type": "code",
   "execution_count": 96,
   "metadata": {},
   "outputs": [
    {
     "name": "stdout",
     "output_type": "stream",
     "text": [
      "3\n"
     ]
    }
   ],
   "source": [
    "# import \n",
    "# or \n",
    "# from 'xxx' import *\n",
    "import math\n",
    "\n",
    "print(math.floor(math.pi))"
   ]
  },
  {
   "cell_type": "markdown",
   "metadata": {},
   "source": [
    "##### Importing Methods Only"
   ]
  },
  {
   "cell_type": "code",
   "execution_count": 95,
   "metadata": {},
   "outputs": [
    {
     "name": "stdout",
     "output_type": "stream",
     "text": [
      "3\n"
     ]
    }
   ],
   "source": [
    "# from 'xxx' import 'xxx'\n",
    "from math import floor, pi\n",
    "print(floor(pi))\n",
    "\n"
   ]
  },
  {
   "cell_type": "markdown",
   "metadata": {},
   "source": [
    "##### Using the 'as' Keyword"
   ]
  },
  {
   "cell_type": "code",
   "execution_count": 97,
   "metadata": {},
   "outputs": [
    {
     "name": "stdout",
     "output_type": "stream",
     "text": [
      "3\n"
     ]
    }
   ],
   "source": [
    "# from 'xxx' import 'xxx' as 'xxx' or import 'xxx' as 'xxx'\n",
    "from math import floor as f, pi as p\n",
    "print(f(p))\n",
    "\n"
   ]
  },
  {
   "cell_type": "markdown",
   "metadata": {},
   "source": [
    "##### Creating a Module"
   ]
  },
  {
   "cell_type": "code",
   "execution_count": 110,
   "metadata": {},
   "outputs": [
    {
     "name": "stdout",
     "output_type": "stream",
     "text": [
      "Hello Mr/Ms Stover...we've been waiting for you!\n"
     ]
    }
   ],
   "source": [
    "from module import printName as pn\n",
    "\n",
    "pn(\"Stover\")\n"
   ]
  },
  {
   "cell_type": "markdown",
   "metadata": {},
   "source": [
    "# Exercises"
   ]
  },
  {
   "cell_type": "markdown",
   "metadata": {},
   "source": [
    "### 1) Build a Shopping Cart <br>\n",
    "<p><b>You can use either lists or dictionaries. The program should have the following capabilities:</b><br><br>\n",
    "1) Takes in input <br>\n",
    "2) Stores user input into a dictionary or list <br>\n",
    "3) The User can add or delete items <br>\n",
    "4) The User can see current shopping list <br>\n",
    "5) The program Loops until user 'quits' <br>\n",
    "6) Upon quiting the program, print out all items in the user's list <br>\n",
    "</p>"
   ]
  },
  {
   "cell_type": "code",
   "execution_count": 114,
   "metadata": {},
   "outputs": [
    {
     "name": "stdout",
     "output_type": "stream",
     "text": [
      "\n",
      "Menu:\n",
      "1: Add item to list\n",
      "2: Delete item from list\n",
      "3: View list\n",
      "4: Quit\n",
      "Please enter a selection, 1-4: 1\n",
      "Please enter the name of the item you'd like to add to your cart: almonds\n",
      "\n",
      "Menu:\n",
      "1: Add item to list\n",
      "2: Delete item from list\n",
      "3: View list\n",
      "4: Quit\n",
      "Please enter a selection, 1-4: 3\n",
      "\n",
      "Current list contents: \n",
      "Almonds\n",
      "\n",
      "Menu:\n",
      "1: Add item to list\n",
      "2: Delete item from list\n",
      "3: View list\n",
      "4: Quit\n",
      "Please enter a selection, 1-4: 4\n",
      "\n",
      "List contents: ['Almonds']\n",
      "Goodbye!\n"
     ]
    }
   ],
   "source": [
    "from IPython.display import clear_output\n",
    "\n",
    "shopping_list = []\n",
    "while True:\n",
    "    print(\"\\nMenu:\")\n",
    "    print(\"1: Add item to list\")\n",
    "    print(\"2: Delete item from list\")\n",
    "    print(\"3: View list\")\n",
    "    print(\"4: Quit\")\n",
    "    selection = input(\"Please enter a selection, 1-4: \")\n",
    "    selection = int(selection)\n",
    "    if selection == 1:\n",
    "        item_to_add = input(\"Please enter the name of the item you'd like to add to your cart: \")\n",
    "        if item_to_add.title() in shopping_list:\n",
    "                print(\"\\nError: That item is already on the list.\")\n",
    "        else:\n",
    "            shopping_list.append(item_to_add.title())\n",
    "    elif selection == 2:\n",
    "        item_to_delete = input(\"Please enter the name of the item you'd like to delete: \")\n",
    "        if item_to_delete.title() in shopping_list:\n",
    "            while item_to_delete.title() in shopping_list:\n",
    "                shopping_list.remove(item_to_delete.title())\n",
    "            print(\"\\nDeleted \" + item_to_delete)\n",
    "        else:\n",
    "            print(\"\\nThat item is not currently in the list.\")\n",
    "    elif selection == 3:\n",
    "        print(\"\\nCurrent list contents: \")\n",
    "        if shopping_list == []:\n",
    "            print(\"The list is empty.\\n\")\n",
    "        for item in shopping_list:\n",
    "            print(item)\n",
    "    elif selection == 4:\n",
    "        print(f\"\\nList contents: {shopping_list}\")\n",
    "        print(\"Goodbye!\")\n",
    "        break\n",
    "    else:\n",
    "        print(\"\\nInvalid selection. Please try again.\")\n",
    "        \n"
   ]
  },
  {
   "cell_type": "markdown",
   "metadata": {},
   "source": [
    "### 2) Create a Module in VS Code and Import It into jupyter notebook <br>\n",
    "<p><b>Module should have the following capabilities:</b><br><br>\n",
    "1) Has a function to calculate the square footage of a house <br>\n",
    "    <b>Reminder of Formula: Length X Width == Area<br>\n",
    "        <hr>\n",
    "2) Has a function to calculate the circumference of a circle <br><br>\n",
    "<b>Program in Jupyter Notebook should take in user input and use imported functions to calculate a circle's circumference or a houses square footage</b>\n",
    "</p>"
   ]
  },
  {
   "cell_type": "code",
   "execution_count": 4,
   "metadata": {},
   "outputs": [
    {
     "data": {
      "text/plain": [
       "12.566370614359172"
      ]
     },
     "execution_count": 4,
     "metadata": {},
     "output_type": "execute_result"
    }
   ],
   "source": [
    "from module import circumference as cm\n",
    "from module import printArea as pa\n",
    "from math import pi\n",
    "pa(2, 2)\n",
    "cm(2)"
   ]
  },
  {
   "cell_type": "code",
   "execution_count": null,
   "metadata": {},
   "outputs": [],
   "source": []
  },
  {
   "cell_type": "code",
   "execution_count": null,
   "metadata": {},
   "outputs": [],
   "source": []
  }
 ],
 "metadata": {
  "kernelspec": {
   "display_name": "Python 3 (ipykernel)",
   "language": "python",
   "name": "python3"
  },
  "language_info": {
   "codemirror_mode": {
    "name": "ipython",
    "version": 3
   },
   "file_extension": ".py",
   "mimetype": "text/x-python",
   "name": "python",
   "nbconvert_exporter": "python",
   "pygments_lexer": "ipython3",
   "version": "3.8.8"
  }
 },
 "nbformat": 4,
 "nbformat_minor": 2
}
